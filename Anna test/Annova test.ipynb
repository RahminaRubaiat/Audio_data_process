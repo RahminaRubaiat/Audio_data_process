{
 "cells": [
  {
   "cell_type": "code",
   "execution_count": 1,
   "id": "69bb3af4",
   "metadata": {},
   "outputs": [],
   "source": [
    "import numpy as np \n",
    "from pandas import DataFrame\n",
    "import pandas as pd # data processing, CSV file I/O (e.g. pd.read_csv)\n",
    "import seaborn as sns"
   ]
  },
  {
   "cell_type": "code",
   "execution_count": 2,
   "id": "0958e01c",
   "metadata": {},
   "outputs": [],
   "source": [
    "ND_PaTaKa_data = 'features_for_ND_T5_Pataka.csv'\n",
    "Conc_PaTaKa_data = 'features_for_Concussion_T5_Pataka.csv'\n",
    "HC_PaTaKa_data = 'features_for_TWC_Healthy_T5_Pataka.csv'\n",
    "df_ND_PaTaKa = pd.read_csv(ND_PaTaKa_data)\n",
    "df_Conc_PaTaKa = pd.read_csv(Conc_PaTaKa_data)\n",
    "df_HC_PaTaKa = pd.read_csv(HC_PaTaKa_data)"
   ]
  },
  {
   "cell_type": "code",
   "execution_count": 3,
   "id": "8d890db9",
   "metadata": {},
   "outputs": [
    {
     "name": "stdout",
     "output_type": "stream",
     "text": [
      "Index(['Unnamed: 0', 'ID_audio', 'duration', 'meanF0Hz', 'stdevF0Hz', 'HNR',\n",
      "       'localJitter', 'localabsoluteJitter', 'rapJitter', 'ppq5Jitter',\n",
      "       'ddpJitter', 'localShimmer', 'localdbShimmer', 'apq3Shimmer',\n",
      "       'apq5Shimmer', 'apq11Shimmer', 'ddaShimmer', 'f1_mean', 'f2_mean',\n",
      "       'f3_mean', 'f4_mean', 'f1_median', 'f2_median', 'f3_median',\n",
      "       'f4_median', 'chroma_stft', 'spectral_centroid', 'spectral_bandwidth',\n",
      "       'spectral_rolloff', 'zero_crossing_rate', 'chroma_cqt', 'chroma_cens',\n",
      "       'melspectrogram', 'mfcc', 'spectral_contrast', 'poly_features',\n",
      "       'tonnezt', 'AvgPower', 'spectral_flatness'],\n",
      "      dtype='object') Index(['Unnamed: 0', 'ID_audio', 'duration', 'meanF0Hz', 'stdevF0Hz', 'HNR',\n",
      "       'localJitter', 'localabsoluteJitter', 'rapJitter', 'ppq5Jitter',\n",
      "       'ddpJitter', 'localShimmer', 'localdbShimmer', 'apq3Shimmer',\n",
      "       'apq5Shimmer', 'apq11Shimmer', 'ddaShimmer', 'f1_mean', 'f2_mean',\n",
      "       'f3_mean', 'f4_mean', 'f1_median', 'f2_median', 'f3_median',\n",
      "       'f4_median', 'chroma_stft', 'spectral_centroid', 'spectral_bandwidth',\n",
      "       'spectral_rolloff', 'zero_crossing_rate', 'chroma_cqt', 'chroma_cens',\n",
      "       'melspectrogram', 'mfcc', 'spectral_contrast', 'poly_features',\n",
      "       'tonnezt', 'AvgPower', 'spectral_flatness'],\n",
      "      dtype='object') Index(['Unnamed: 0', 'ID_audio', 'duration', 'meanF0Hz', 'stdevF0Hz', 'HNR',\n",
      "       'localJitter', 'localabsoluteJitter', 'rapJitter', 'ppq5Jitter',\n",
      "       'ddpJitter', 'localShimmer', 'localdbShimmer', 'apq3Shimmer',\n",
      "       'apq5Shimmer', 'apq11Shimmer', 'ddaShimmer', 'f1_mean', 'f2_mean',\n",
      "       'f3_mean', 'f4_mean', 'f1_median', 'f2_median', 'f3_median',\n",
      "       'f4_median', 'chroma_stft', 'spectral_centroid', 'spectral_bandwidth',\n",
      "       'spectral_rolloff', 'zero_crossing_rate', 'chroma_cqt', 'chroma_cens',\n",
      "       'melspectrogram', 'mfcc', 'spectral_contrast', 'poly_features',\n",
      "       'tonnezt', 'AvgPower', 'spectral_flatness'],\n",
      "      dtype='object')\n"
     ]
    }
   ],
   "source": [
    "print(df_ND_PaTaKa.columns,df_Conc_PaTaKa.columns,df_HC_PaTaKa.columns)"
   ]
  },
  {
   "cell_type": "code",
   "execution_count": 17,
   "id": "d1c9615d",
   "metadata": {},
   "outputs": [
    {
     "name": "stdout",
     "output_type": "stream",
     "text": [
      "ANOVA Results:\n",
      "F-statistic: 58.26474344578501\n",
      "P-value: 4.942552864313484e-21\n",
      "Before sorting:\n",
      "Empty DataFrame\n",
      "Columns: [Feature, p-value]\n",
      "Index: []\n",
      "After sorting:\n",
      "[('AvgPower', 4.80324405546529e-20), ('HNR', 0.01019461202410706), ('apq11Shimmer', nan), ('apq3Shimmer', nan), ('apq5Shimmer', nan), ('chroma_cens', 3.3372951689034386e-06), ('chroma_cqt', 0.00013731942016102246), ('chroma_stft', 0.00016564934243028443), ('ddaShimmer', nan), ('ddpJitter', 0.12352333897643095), ('duration', 4.942552864313484e-21), ('f1_mean', 0.26106812869910584), ('f1_median', 0.30039768594730704), ('f2_mean', 3.125847279998078e-06), ('f2_median', 1.960808692464814e-06), ('f3_mean', 0.19980231454496172), ('f3_median', 0.03478773237253775), ('f4_mean', 0.7528334804398806), ('f4_median', 0.5487978924007173), ('localJitter', 0.6455250114308647), ('localShimmer', 0.11383494447486797), ('localabsoluteJitter', 0.3615963454836412), ('localdbShimmer', 0.020566510382303834), ('meanF0Hz', 0.001566368344786425), ('melspectrogram', 2.3441015257572016e-15), ('mfcc', 1.6279962146924482e-44), ('poly_features', 1.508538060125312e-10), ('ppq5Jitter', 0.00018107163801308723), ('rapJitter', 0.12352334516157634), ('spectral_bandwidth', 3.888559059870924e-72), ('spectral_centroid', 4.445643452992473e-18), ('spectral_contrast', 8.72171779668166e-06), ('spectral_flatness', 1.3547023571178856e-21), ('spectral_rolloff', 4.6687004311798854e-11), ('stdevF0Hz', 0.00010127645905893523), ('tonnezt', 0.16340750400313234), ('zero_crossing_rate', 1.0025985880164298e-35)]\n"
     ]
    }
   ],
   "source": [
    "import numpy as np\n",
    "from scipy.stats import f_oneway\n",
    "dict_p_value = {}\n",
    "for column in df_ND_PaTaKa.columns[2:]:\n",
    "    anova_result = f_oneway(df_ND_PaTaKa[column], df_Conc_PaTaKa[column],df_HC_PaTaKa[column])\n",
    "    dict_p_value[column] = anova_result.pvalue\n",
    "\n",
    "# Perform ANOVA test\n",
    "anova_result = f_oneway(df_ND_PaTaKa['duration'], df_Conc_PaTaKa['duration'],df_HC_PaTaKa['duration'])\n",
    "\n",
    "# Print ANOVA results\n",
    "print(\"ANOVA Results:\")\n",
    "print(\"F-statistic:\", anova_result.statistic)\n",
    "print(\"P-value:\", anova_result.pvalue)\n",
    "#df = pd.DataFrame(dict_p_value,columns=['Feature','p_value'])\n",
    "print('Before sorting:')\n",
    "print(df)\n",
    "#sorted_df = df.sort_values(by='p_value')\n",
    "print('After sorting:')\n",
    "sorted_dict_p_value = sorted(dict_p_value.items())\n",
    "print(sorted_dict_p_value)"
   ]
  },
  {
   "cell_type": "code",
   "execution_count": 22,
   "id": "80e44a8c",
   "metadata": {},
   "outputs": [],
   "source": [
    "df = pd.DataFrame(sorted_dict_p_value)\n",
    "df_cleaned = df.dropna()\n",
    "df_cleaned = df.sort_values(by=1)\n",
    "df_cleaned.to_csv('results/annova_result.csv')"
   ]
  },
  {
   "cell_type": "code",
   "execution_count": null,
   "id": "55bc88a9",
   "metadata": {},
   "outputs": [],
   "source": []
  }
 ],
 "metadata": {
  "kernelspec": {
   "display_name": "Python 3 (ipykernel)",
   "language": "python",
   "name": "python3"
  },
  "language_info": {
   "codemirror_mode": {
    "name": "ipython",
    "version": 3
   },
   "file_extension": ".py",
   "mimetype": "text/x-python",
   "name": "python",
   "nbconvert_exporter": "python",
   "pygments_lexer": "ipython3",
   "version": "3.10.10"
  }
 },
 "nbformat": 4,
 "nbformat_minor": 5
}
